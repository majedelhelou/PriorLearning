{
 "cells": [
  {
   "cell_type": "code",
   "execution_count": 35,
   "metadata": {},
   "outputs": [],
   "source": [
    "import torch\n",
    "from torch.autograd import Variable\n",
    "import numpy as np\n",
    "import torch.nn.functional as F\n",
    "import torchvision\n",
    "from torchvision import transforms\n",
    "import torch.optim as optim\n",
    "from torch import nn\n",
    "import matplotlib.pyplot as plt\n",
    "\n",
    "\n",
    "class Normal(object):\n",
    "    def __init__(self, mu, sigma, log_sigma, v=None, r=None):\n",
    "        self.mu = mu\n",
    "        self.sigma = sigma  # either stdev diagonal itself, or stdev diagonal from decomposition\n",
    "        self.logsigma = log_sigma\n",
    "        dim = mu.get_shape()\n",
    "        if v is None:\n",
    "            v = torch.FloatTensor(*dim)\n",
    "        if r is None:\n",
    "            r = torch.FloatTensor(*dim)\n",
    "        self.v = v\n",
    "        self.r = r\n",
    "\n",
    "\n",
    "class Encoder(torch.nn.Module):\n",
    "    def __init__(self, D_in, H, D_out):\n",
    "        super(Encoder, self).__init__()\n",
    "        self.linear1 = torch.nn.Linear(D_in, H)\n",
    "        self.linear2 = torch.nn.Linear(H, D_out)\n",
    "\n",
    "    def forward(self, x):\n",
    "        x = F.relu(self.linear1(x))\n",
    "        return F.relu(self.linear2(x))\n",
    "\n",
    "\n",
    "class Decoder(torch.nn.Module):\n",
    "    def __init__(self, D_in, H, D_out):\n",
    "        super(Decoder, self).__init__()\n",
    "        self.linear1 = torch.nn.Linear(D_in, H)\n",
    "        self.linear2 = torch.nn.Linear(H, D_out)\n",
    "        # add convolutional layers\n",
    "\n",
    "    def forward(self, x):\n",
    "        x = F.relu(self.linear1(x))\n",
    "        return F.relu(self.linear2(x))\n",
    "\n",
    "\n",
    "class VAE(torch.nn.Module):\n",
    "\n",
    "    def __init__(self, input_dim, latent_dim=8, H=100):\n",
    "        super(VAE, self).__init__()\n",
    "        self.encoder = Encoder(input_dim, H, H)\n",
    "        self.decoder = Decoder(latent_dim, H, input_dim)\n",
    "        self._enc_mu = torch.nn.Linear(H, latent_dim)\n",
    "        self._enc_log_sigma = torch.nn.Linear(H, latent_dim)\n",
    "\n",
    "    def _sample_latent(self, h_enc):\n",
    "        \"\"\"\n",
    "        Return the latent normal sample z ~ N(mu, sigma^2)\n",
    "        \"\"\"\n",
    "        mu = self._enc_mu(h_enc)\n",
    "        log_sigma = self._enc_log_sigma(h_enc)\n",
    "        sigma = torch.exp(log_sigma)\n",
    "        std_z = torch.from_numpy(np.random.normal(0, 1, size=sigma.size())).float()\n",
    "\n",
    "        self.z_mean = mu\n",
    "        self.z_sigma = sigma\n",
    "\n",
    "        return mu + sigma * Variable(std_z, requires_grad=False)  # Reparameterization trick\n",
    "\n",
    "    def forward(self, state):\n",
    "        h_enc = self.encoder(state)\n",
    "        z = self._sample_latent(h_enc)\n",
    "        return self.decoder(z)\n",
    "\n",
    "\n",
    "def latent_loss(z_mean, z_stddev):\n",
    "    mean_sq = z_mean * z_mean\n",
    "    stddev_sq = z_stddev * z_stddev\n",
    "    return 0.5 * torch.mean(mean_sq + stddev_sq - torch.log(stddev_sq) - 1)\n"
   ]
  },
  {
   "cell_type": "code",
   "execution_count": 73,
   "metadata": {
    "scrolled": true
   },
   "outputs": [
    {
     "name": "stdout",
     "output_type": "stream",
     "text": [
      "Number of samples: 512\n",
      "0 0.21379736065864563\n",
      "1 0.1574878692626953\n",
      "2 0.16685070097446442\n",
      "3 0.1525840163230896\n",
      "4 0.13977931439876556\n",
      "5 0.12409774959087372\n",
      "6 0.1095731183886528\n",
      "7 0.10455337911844254\n",
      "8 0.10042376071214676\n",
      "9 0.10052473843097687\n",
      "10 0.0792912021279335\n",
      "11 0.08880199491977692\n",
      "12 0.08172991126775742\n",
      "13 0.0901094451546669\n",
      "14 0.07618141174316406\n",
      "15 0.0675208568572998\n",
      "16 0.0737571269273758\n",
      "17 0.07355763018131256\n",
      "18 0.062221840023994446\n",
      "19 0.07103846967220306\n",
      "20 0.05763721093535423\n",
      "21 0.07237588614225388\n",
      "22 0.06339938938617706\n",
      "23 0.06576217710971832\n",
      "24 0.058876026421785355\n",
      "25 0.07339071482419968\n",
      "26 0.06606878340244293\n",
      "27 0.06438542902469635\n",
      "28 0.06909530609846115\n",
      "29 0.053881462663412094\n",
      "30 0.06488755345344543\n",
      "31 0.06061321124434471\n",
      "32 0.05015971511602402\n",
      "33 0.06361892819404602\n",
      "34 0.0409628227353096\n",
      "35 0.054654933512210846\n",
      "36 0.05425900220870972\n",
      "37 0.05754680931568146\n",
      "38 0.05054739490151405\n",
      "39 0.06026695668697357\n",
      "40 0.058200903236866\n",
      "41 0.05271298065781593\n",
      "42 0.058900222182273865\n",
      "43 0.052233681082725525\n",
      "44 0.057124994695186615\n",
      "45 0.047339875251054764\n",
      "46 0.05586638301610947\n",
      "47 0.04258056357502937\n",
      "48 0.05665963143110275\n",
      "49 0.03691321611404419\n",
      "50 0.06455772370100021\n",
      "51 0.04867148771882057\n",
      "52 0.040674205869436264\n",
      "53 0.053394217044115067\n",
      "54 0.05020773038268089\n",
      "55 0.04872007295489311\n",
      "56 0.04419606551527977\n",
      "57 0.05900895223021507\n",
      "58 0.05237510800361633\n",
      "59 0.05225640535354614\n",
      "60 0.043442338705062866\n",
      "61 0.05254753679037094\n",
      "62 0.0576532781124115\n",
      "63 0.05048505961894989\n",
      "64 0.044058460742235184\n",
      "65 0.049633827060461044\n",
      "66 0.0566924549639225\n",
      "67 0.051296819001436234\n",
      "68 0.04886091500520706\n",
      "69 0.04298510029911995\n",
      "70 0.036063868552446365\n",
      "71 0.05938239395618439\n",
      "72 0.05815025046467781\n",
      "73 0.037677522748708725\n",
      "74 0.03880230709910393\n",
      "75 0.03756698593497276\n",
      "76 0.061773791909217834\n",
      "77 0.04122769832611084\n",
      "78 0.04300390183925629\n",
      "79 0.041754111647605896\n",
      "80 0.06041766330599785\n",
      "81 0.060381487011909485\n",
      "82 0.044956788420677185\n",
      "83 0.04626249521970749\n",
      "84 0.05172961950302124\n",
      "85 0.037531930953264236\n",
      "86 0.0375516377389431\n",
      "87 0.034644246101379395\n",
      "88 0.038555704057216644\n",
      "89 0.05574706941843033\n",
      "90 0.05796163156628609\n",
      "91 0.0413484163582325\n",
      "92 0.03455374762415886\n",
      "93 0.05229954794049263\n",
      "94 0.05462906137108803\n",
      "95 0.047820884734392166\n",
      "96 0.05122824385762215\n",
      "97 0.047912344336509705\n",
      "98 0.03992790728807449\n",
      "99 0.05433261767029762\n"
     ]
    }
   ],
   "source": [
    "from dataset import Dataset\n",
    "\n",
    "batch_size = 16\n",
    "patch_size = 64\n",
    "input_dim = patch_size * patch_size\n",
    "\n",
    "dataset = Dataset(patch_size=patch_size, stride=32, size=512, seed=1234)\n",
    "dataloader = torch.utils.data.DataLoader(dataset=dataset, num_workers=1, batch_size=batch_size, shuffle=True)\n",
    "\n",
    "print('Number of samples:', len(dataset))\n",
    "\n",
    "vae = VAE(input_dim, latent_dim=32, H=200)\n",
    "\n",
    "criterion = nn.MSELoss()\n",
    "\n",
    "optimizer = optim.Adam(vae.parameters(), lr=0.000025)\n",
    "l = None\n",
    "for epoch in range(100):\n",
    "    for i, data in enumerate(dataloader, 0):\n",
    "        inputs = data[:,:,:,:,0]\n",
    "        inputs = Variable(inputs.resize_(batch_size, input_dim))\n",
    "        optimizer.zero_grad()\n",
    "        dec = vae(inputs)\n",
    "        ll = latent_loss(vae.z_mean, vae.z_sigma)\n",
    "        loss = criterion(dec, inputs) + ll\n",
    "        loss.backward()\n",
    "        optimizer.step()\n",
    "        l = loss.item()\n",
    "    print(epoch, l)"
   ]
  },
  {
   "cell_type": "code",
   "execution_count": 95,
   "metadata": {},
   "outputs": [
    {
     "data": {
      "image/png": "[encoded data removed]",
      "text/plain": [
       "<Figure size 432x288 with 1 Axes>"
      ]
     },
     "metadata": {
      "needs_background": "light"
     },
     "output_type": "display_data"
    }
   ],
   "source": [
    "plt.imshow(vae(inputs).data[0].numpy().reshape(64, 64), cmap='gray')\n",
    "plt.show(block=True)"
   ]
  },
  {
   "cell_type": "code",
   "execution_count": 101,
   "metadata": {},
   "outputs": [
    {
     "data": {
      "text/plain": [
       "<matplotlib.image.AxesImage at 0x195292bd908>"
      ]
     },
     "execution_count": 101,
     "metadata": {},
     "output_type": "execute_result"
    },
    {
     "data": {
      "image/png": "[encoded data removed]",
      "text/plain": [
       "<Figure size 432x288 with 1 Axes>"
      ]
     },
     "metadata": {
      "needs_background": "light"
     },
     "output_type": "display_data"
    }
   ],
   "source": [
    "tmp = Variable(torch.from_numpy(np.random.normal(size=32)).float(), requires_grad=False)\n",
    "img = vae.decoder(tmp)\n",
    "plt.imshow(img.detach().numpy().reshape(64, 64), cmap='gray')"
   ]
  },
  {
   "cell_type": "code",
   "execution_count": null,
   "metadata": {},
   "outputs": [],
   "source": []
  },
  {
   "cell_type": "code",
   "execution_count": null,
   "metadata": {},
   "outputs": [],
   "source": []
  },
  {
   "cell_type": "code",
   "execution_count": null,
   "metadata": {},
   "outputs": [],
   "source": []
  },
  {
   "cell_type": "code",
   "execution_count": null,
   "metadata": {},
   "outputs": [],
   "source": []
  },
  {
   "cell_type": "code",
   "execution_count": null,
   "metadata": {},
   "outputs": [],
   "source": []
  },
  {
   "cell_type": "code",
   "execution_count": null,
   "metadata": {},
   "outputs": [],
   "source": []
  },
  {
   "cell_type": "code",
   "execution_count": null,
   "metadata": {},
   "outputs": [],
   "source": []
  },
  {
   "cell_type": "code",
   "execution_count": null,
   "metadata": {},
   "outputs": [],
   "source": []
  },
  {
   "cell_type": "code",
   "execution_count": null,
   "metadata": {},
   "outputs": [],
   "source": []
  }
 ],
 "metadata": {
  "kernelspec": {
   "display_name": "Python 3",
   "language": "python",
   "name": "python3"
  },
  "language_info": {
   "codemirror_mode": {
    "name": "ipython",
    "version": 3
   },
   "file_extension": ".py",
   "mimetype": "text/x-python",
   "name": "python",
   "nbconvert_exporter": "python",
   "pygments_lexer": "ipython3",
   "version": "3.7.3"
  }
 },
 "nbformat": 4,
 "nbformat_minor": 2
}
